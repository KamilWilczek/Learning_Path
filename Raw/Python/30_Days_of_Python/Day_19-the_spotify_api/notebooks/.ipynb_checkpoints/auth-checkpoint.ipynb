{
 "cells": [
  {
   "cell_type": "code",
   "execution_count": null,
   "id": "93e82c67",
   "metadata": {},
   "outputs": [],
   "source": [
    "!pip install requests"
   ]
  },
  {
   "cell_type": "code",
   "execution_count": 10,
   "id": "2008d49c",
   "metadata": {},
   "outputs": [],
   "source": [
    "import base64"
   ]
  },
  {
   "cell_type": "code",
   "execution_count": 5,
   "id": "d1e9edd2",
   "metadata": {},
   "outputs": [],
   "source": [
    "client_id = 'f2bcd842853e42bca697709852a4c8c8'\n",
    "client_secret = '1438243e1ac84a9f91222795504e881e'"
   ]
  },
  {
   "cell_type": "code",
   "execution_count": 6,
   "id": "a49bbf83",
   "metadata": {},
   "outputs": [],
   "source": [
    "# do lookup for a token\n",
    "# this token is for future requests"
   ]
  },
  {
   "cell_type": "code",
   "execution_count": 8,
   "id": "24220255",
   "metadata": {},
   "outputs": [
    {
     "data": {
      "text/plain": [
       "str"
      ]
     },
     "execution_count": 8,
     "metadata": {},
     "output_type": "execute_result"
    }
   ],
   "source": [
    "client_creds = f\"{client_id}:{client_secret}\"\n",
    "type(client_creds)"
   ]
  },
  {
   "cell_type": "code",
   "execution_count": 12,
   "id": "5381a92a",
   "metadata": {},
   "outputs": [],
   "source": [
    "# clients_creds.encode().decode()\n",
    "clients_creds_b64 = base64.b64encode(client_creds.encode())\n",
    "print(clients_creds_b64)"
   ]
  },
  {
   "cell_type": "code",
   "execution_count": null,
   "id": "c0915b35",
   "metadata": {},
   "outputs": [],
   "source": [
    "token_url = 'https://accounts.spotify.com/api/token'\n",
    "method = \"POST\"\n",
    "token_data = {\n",
    "    \"grant_type\": \"client_credentials\"\n",
    "}\n",
    "token_header = {\n",
    "    \"Authorization\": f\"Basic {client_creds}\" # <base64 encoded client_id:client_secret>\n",
    "}"
   ]
  },
  {
   "cell_type": "code",
   "execution_count": null,
   "id": "ac512e99",
   "metadata": {},
   "outputs": [],
   "source": []
  }
 ],
 "metadata": {
  "kernelspec": {
   "display_name": "Python 3 (ipykernel)",
   "language": "python",
   "name": "python3"
  },
  "language_info": {
   "codemirror_mode": {
    "name": "ipython",
    "version": 3
   },
   "file_extension": ".py",
   "mimetype": "text/x-python",
   "name": "python",
   "nbconvert_exporter": "python",
   "pygments_lexer": "ipython3",
   "version": "3.9.11"
  }
 },
 "nbformat": 4,
 "nbformat_minor": 5
}
