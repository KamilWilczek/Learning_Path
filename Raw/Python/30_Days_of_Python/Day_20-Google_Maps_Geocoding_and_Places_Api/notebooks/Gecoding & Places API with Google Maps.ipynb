{
 "cells": [
  {
   "cell_type": "code",
   "execution_count": null,
   "id": "2f8c5fdc",
   "metadata": {},
   "outputs": [],
   "source": [
    "### First Steps\n",
    "1. Sign up for Google Cloud\n",
    "2. Create a project inside Google Cloud\n",
    "3. Activate our API Services -> Gecoding API & Places API\n",
    "4. Get API Key & Restrict"
   ]
  }
 ],
 "metadata": {
  "kernelspec": {
   "display_name": "Python 3 (ipykernel)",
   "language": "python",
   "name": "python3"
  },
  "language_info": {
   "codemirror_mode": {
    "name": "ipython",
    "version": 3
   },
   "file_extension": ".py",
   "mimetype": "text/x-python",
   "name": "python",
   "nbconvert_exporter": "python",
   "pygments_lexer": "ipython3",
   "version": "3.9.10"
  }
 },
 "nbformat": 4,
 "nbformat_minor": 5
}
