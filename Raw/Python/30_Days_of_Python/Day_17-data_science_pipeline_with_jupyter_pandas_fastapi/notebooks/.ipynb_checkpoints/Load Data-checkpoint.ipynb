{
 "cells": [
  {
   "cell_type": "code",
   "execution_count": 1,
   "id": "63ca503e",
   "metadata": {},
   "outputs": [],
   "source": [
    "import os"
   ]
  },
  {
   "cell_type": "code",
   "execution_count": 4,
   "id": "2c288a01",
   "metadata": {},
   "outputs": [
    {
     "name": "stdout",
     "output_type": "stream",
     "text": [
      "C:\\dev\\Programming\\Courses\\Learning_Path\\Raw\\Python\\30_Days_of_Python\\Day_17-data_science_pipeline_with_jupyter_pandas_fastapi\\notebooks\n"
     ]
    }
   ],
   "source": [
    "# current working directory\n",
    "cwd = os.getcwd() # dirname(abspath(__file__))\n",
    "print(cwd)\n",
    "BASE_DIR = os.path.dirname(cwd)"
   ]
  },
  {
   "cell_type": "code",
   "execution_count": null,
   "id": "f077b34d",
   "metadata": {},
   "outputs": [],
   "source": []
  }
 ],
 "metadata": {
  "kernelspec": {
   "display_name": "Python 3 (ipykernel)",
   "language": "python",
   "name": "python3"
  },
  "language_info": {
   "codemirror_mode": {
    "name": "ipython",
    "version": 3
   },
   "file_extension": ".py",
   "mimetype": "text/x-python",
   "name": "python",
   "nbconvert_exporter": "python",
   "pygments_lexer": "ipython3",
   "version": "3.9.11"
  }
 },
 "nbformat": 4,
 "nbformat_minor": 5
}
