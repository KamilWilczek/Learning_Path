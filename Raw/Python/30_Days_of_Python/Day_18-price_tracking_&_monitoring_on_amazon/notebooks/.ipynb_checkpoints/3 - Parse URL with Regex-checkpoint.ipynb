{
 "cells": [
  {
   "cell_type": "code",
   "execution_count": 1,
   "id": "4685d74e",
   "metadata": {},
   "outputs": [],
   "source": [
    "import time\n",
    "import re\n",
    "import requests\n",
    "from requests_html import HTML"
   ]
  },
  {
   "cell_type": "code",
   "execution_count": 2,
   "id": "d960f9ae",
   "metadata": {},
   "outputs": [],
   "source": [
    "from selenium import webdriver\n",
    "from selenium import webdriver\n",
    "from selenium.webdriver.chrome.service import Service\n",
    "from selenium.webdriver.chrome.options import Options\n",
    "from selenium.webdriver.common.by import By\n",
    "from webdriver_manager.chrome import ChromeDriverManager"
   ]
  },
  {
   "cell_type": "code",
   "execution_count": 3,
   "id": "5aaf111a",
   "metadata": {},
   "outputs": [
    {
     "name": "stdout",
     "output_type": "stream",
     "text": [
      "\n"
     ]
    },
    {
     "name": "stderr",
     "output_type": "stream",
     "text": [
      "[WDM] - ====== WebDriver manager ======\n",
      "[WDM] - Current google-chrome version is 102.0.5005\n",
      "[WDM] - Get LATEST chromedriver version for 102.0.5005 google-chrome\n",
      "[WDM] - Driver [C:\\Users\\admin\\.wdm\\drivers\\chromedriver\\win32\\102.0.5005.61\\chromedriver.exe] found in cache\n"
     ]
    }
   ],
   "source": [
    "options = Options()\n",
    "options.add_argument(\"--headless\")\n",
    "\n",
    "driver = webdriver.Chrome(options=options,service=Service(ChromeDriverManager().install()))"
   ]
  },
  {
   "cell_type": "code",
   "execution_count": 4,
   "id": "ef79ac04",
   "metadata": {},
   "outputs": [],
   "source": [
    "categories = [\n",
    "    \"https://www.amazon.com/gp/bestsellers/toys-and-games\",\n",
    "    \"https://www.amazon.com/gp/bestsellers/electronics\",\n",
    "    \"https://www.amazon.com/gp/bestsellers/books\"\n",
    "]"
   ]
  },
  {
   "cell_type": "code",
   "execution_count": 5,
   "id": "eed5f535",
   "metadata": {},
   "outputs": [
    {
     "data": {
      "text/plain": [
       "['https://www.amazon.com/gp/bestsellers/toys-and-games',\n",
       " 'https://www.amazon.com/gp/bestsellers/electronics',\n",
       " 'https://www.amazon.com/gp/bestsellers/books']"
      ]
     },
     "execution_count": 5,
     "metadata": {},
     "output_type": "execute_result"
    }
   ],
   "source": [
    "categories"
   ]
  },
  {
   "cell_type": "code",
   "execution_count": 6,
   "id": "89c0d9ce",
   "metadata": {},
   "outputs": [],
   "source": [
    "first_url = categories[0]"
   ]
  },
  {
   "cell_type": "code",
   "execution_count": 7,
   "id": "59470a37",
   "metadata": {},
   "outputs": [],
   "source": [
    "driver.get(first_url)"
   ]
  },
  {
   "cell_type": "code",
   "execution_count": 8,
   "id": "6f8e8345",
   "metadata": {},
   "outputs": [],
   "source": [
    "body_el = driver.find_element(By.CSS_SELECTOR, \"body\")\n",
    "html_str = body_el.get_attribute(\"innerHTML\")"
   ]
  },
  {
   "cell_type": "code",
   "execution_count": 9,
   "id": "f54fb118",
   "metadata": {},
   "outputs": [],
   "source": [
    "html_obj = HTML(html=html_str)"
   ]
  },
  {
   "cell_type": "code",
   "execution_count": 10,
   "id": "5a7fe91f",
   "metadata": {},
   "outputs": [],
   "source": [
    "# new_links = [x for x in html_obj.links if x.startswith(\"/\")]\n",
    "# new_links = [x for x in new_links if \"product-reviews/\" not in x]\n",
    "# page_links = [f\"https://www.amazon.com{x}\" for x in new_links]\n",
    "page_links = [f\"https://www.amazon.com{x}\" for x in html_obj.links if x.startswith(\"/\")]\n",
    "# page_links [x for x in page_links if extract_product_id_from_url(x) != None]"
   ]
  },
  {
   "cell_type": "code",
   "execution_count": 11,
   "id": "10dcf0ac",
   "metadata": {
    "scrolled": true
   },
   "outputs": [],
   "source": [
    "# page_links"
   ]
  },
  {
   "cell_type": "code",
   "execution_count": 12,
   "id": "463fd8e0",
   "metadata": {},
   "outputs": [],
   "source": [
    "def scrape_product_page(\n",
    "    url, \n",
    "    title_lookup = \"#productTitle\",\n",
    "    price_lookup = \".apexPriceToPay\"\n",
    "):\n",
    "    driver.get(url)\n",
    "    time.sleep(1.2)\n",
    "    body_el = driver.find_element(By.CSS_SELECTOR, \"body\")\n",
    "    html_str = body_el.get_attribute(\"innerHTML\")\n",
    "    html_obj = HTML(html=html_str)\n",
    "    product_title = html_obj.find(title_lookup, first=True).text\n",
    "    product_price = html_obj.find(price_lookup, first=True).text\n",
    "    return product_title, product_price"
   ]
  },
  {
   "cell_type": "code",
   "execution_count": 13,
   "id": "3f456353",
   "metadata": {},
   "outputs": [],
   "source": [
    "# first_product_link = page_links[0]\n",
    "# first_product_link"
   ]
  },
  {
   "cell_type": "code",
   "execution_count": 14,
   "id": "cd3e24fa",
   "metadata": {},
   "outputs": [],
   "source": [
    "# https://www.amazon.com/Max-Liquidator-6-Pack-Water-Blaster/dp/B0796JVBJ8/\n",
    "# https://www.amazon.com/Play-Doh-Modeling-Compound-Non-Toxic-Exclusive/dp/B00JM5GW10/\n",
    "\n",
    "# <base-url>/<slug>/dp/<product_id>/"
   ]
  },
  {
   "cell_type": "code",
   "execution_count": 15,
   "id": "ef5459a9",
   "metadata": {},
   "outputs": [],
   "source": [
    "# my_regex_pattern = r\"https://www.amazon.com/(?P<slug>[\\w-]+)/dp/(?P<product_id>[\\w-]+)/\"\n",
    "# my_url = 'https://www.amazon.com/Max-Liquidator-6-Pack-Water-Blaster/dp/B0796JVBJ8/'"
   ]
  },
  {
   "cell_type": "code",
   "execution_count": 16,
   "id": "564af11e",
   "metadata": {},
   "outputs": [],
   "source": [
    "# regex = re.compile(my_regex_pattern)"
   ]
  },
  {
   "cell_type": "code",
   "execution_count": 17,
   "id": "c46f85d3",
   "metadata": {},
   "outputs": [],
   "source": [
    "# my_match = regex.match(\"abc\")\n",
    "# my_match = regex.match(my_url)\n",
    "# print(my_match)\n",
    "# my_match['product_id']"
   ]
  },
  {
   "cell_type": "code",
   "execution_count": 18,
   "id": "f943a305",
   "metadata": {},
   "outputs": [],
   "source": [
    "# my_match['slug']"
   ]
  },
  {
   "cell_type": "code",
   "execution_count": 19,
   "id": "0a52ea2b",
   "metadata": {},
   "outputs": [],
   "source": [
    "regex_options = [\n",
    "    r\"https://www.amazon.com/gp/product/(?P<product_id>[\\w-]+)/\",\n",
    "    r\"https://www.amazon.com/dp/(?P<product_id>[\\w-]+)/\",\n",
    "    r\"https://www.amazon.com/(?P<slug>[\\w-]+)/dp/(?P<product_id>[\\w-]+)/\",\n",
    "]\n",
    "\n",
    "def extract_product_id_from_url(url):\n",
    "    product_id = None\n",
    "    for regex_str in regex_options:\n",
    "        regex = re.compile(regex_str)\n",
    "        match = regex.match(url)\n",
    "        if match != None:\n",
    "            try:\n",
    "                product_id = match['product_id']\n",
    "            except:\n",
    "                pass\n",
    "    return product_id"
   ]
  },
  {
   "cell_type": "code",
   "execution_count": 20,
   "id": "6c8e4816",
   "metadata": {},
   "outputs": [],
   "source": [
    "def clean_page_links(page_links=[]):\n",
    "    final_page_links = []\n",
    "    for url in page_links:\n",
    "        product_id = extract_product_id_from_url(url)\n",
    "        if product_id != None:\n",
    "            final_page_links.append({\"url\": url, \"product_id\": product_id})\n",
    "    return final_page_links\n",
    "\n",
    "cleaned_links = clean_page_links(page_links)"
   ]
  },
  {
   "cell_type": "code",
   "execution_count": 21,
   "id": "0a4ab855",
   "metadata": {},
   "outputs": [
    {
     "data": {
      "text/plain": [
       "False"
      ]
     },
     "execution_count": 21,
     "metadata": {},
     "output_type": "execute_result"
    }
   ],
   "source": [
    "len(page_links) == len(cleaned_links)"
   ]
  },
  {
   "cell_type": "code",
   "execution_count": 23,
   "id": "45103038",
   "metadata": {},
   "outputs": [
    {
     "data": {
      "text/plain": [
       "[{'url': 'https://www.amazon.com/LeapFrog-Animals-Book-Frustration-Packaging/dp/B085KTB1WY/ref=zg_bs_toys-and-games_3/141-1794860-1640200?pd_rd_i=B0953YFR2M&psc=1',\n",
       "  'product_id': 'B085KTB1WY'},\n",
       " {'url': 'https://www.amazon.com/Elmers-Liquid-School-Glue-Washable/dp/B072J37ZZD/ref=zg_bs_toys-and-games_25/141-1794860-1640200?pd_rd_i=B09YMS5KV8&psc=1',\n",
       "  'product_id': 'B072J37ZZD'},\n",
       " {'url': 'https://www.amazon.com/Aqua-Monterey-Multi-Purpose-Inflatable-Portable/dp/B073WMYP6M/ref=zg_bs_toys-and-games_1/141-1794860-1640200?pd_rd_i=B09X2GCSDD&psc=1',\n",
       "  'product_id': 'B073WMYP6M'},\n",
       " {'url': 'https://www.amazon.com/Crayola-Colored-Pencil-Supplies-Assorted/dp/B00006RVTS/ref=zg_bs_toys-and-games_17/141-1794860-1640200?pd_rd_i=B09MH514FH&psc=1',\n",
       "  'product_id': 'B00006RVTS'},\n",
       " {'url': 'https://www.amazon.com/Taco-Cat-Goat-Cheese-Pizza/dp/B077Z1R28P/ref=zg_bs_toys-and-games_21/141-1794860-1640200?pd_rd_i=B077Z1R28P&psc=1',\n",
       "  'product_id': 'B077Z1R28P'},\n",
       " {'url': 'https://www.amazon.com/SwimWays-Recliner-Lounger-Hyper-Flate-Inflatable/dp/B08H8XFJDQ/ref=zg_bs_toys-and-games_10/141-1794860-1640200?pd_rd_i=B09ZYW2YHP&psc=1',\n",
       "  'product_id': 'B08H8XFJDQ'},\n",
       " {'url': 'https://www.amazon.com/Blinger-Ultimate-Collection-Comes-Styling/dp/B07ZKTBGR2/ref=zg_bs_toys-and-games_9/141-1794860-1640200?pd_rd_i=B07ZKTBGR2&psc=1',\n",
       "  'product_id': 'B07ZKTBGR2'},\n",
       " {'url': 'https://www.amazon.com/Colorful-Baby-Toys-brightly-together/dp/B00005C5H4/ref=zg_bs_toys-and-games_27/141-1794860-1640200?pd_rd_i=B07C4NGT17&psc=1',\n",
       "  'product_id': 'B00005C5H4'},\n",
       " {'url': 'https://www.amazon.com/Max-Liquidator-6-Pack-Water-Blaster/dp/B0796JVBJ8/ref=zg_bs_toys-and-games_15/141-1794860-1640200?pd_rd_i=B0796JVBJ8&psc=1',\n",
       "  'product_id': 'B0796JVBJ8'},\n",
       " {'url': 'https://www.amazon.com/PartySticks-Sticks-Party-Supplies-100pk/dp/B00N1QPNMA/ref=zg_bs_toys-and-games_8/141-1794860-1640200?pd_rd_i=B09Q7KP8GX&psc=1',\n",
       "  'product_id': 'B00N1QPNMA'},\n",
       " {'url': 'https://www.amazon.com/Beach-Toys-Blue-Ultimate-Skip/dp/B08TPHYWHK/ref=zg_bs_toys-and-games_7/141-1794860-1640200?pd_rd_i=B09FB1JZ2G&psc=1',\n",
       "  'product_id': 'B08TPHYWHK'},\n",
       " {'url': 'https://www.amazon.com/Play-Doh-Modeling-Compound-Non-Toxic-Exclusive/dp/B00JM5GW10/ref=zg_bs_toys-and-games_14/141-1794860-1640200?pd_rd_i=B00JM5GW10&psc=1',\n",
       "  'product_id': 'B00JM5GW10'},\n",
       " {'url': 'https://www.amazon.com/SHASHIBO-Shifting-Geometric-Magnetic-Transforming/dp/B07W7FLKRW/ref=zg_bs_toys-and-games_23/141-1794860-1640200?pd_rd_i=B09NTXBJDM&psc=1',\n",
       "  'product_id': 'B07W7FLKRW'},\n",
       " {'url': 'https://www.amazon.com/LAYCOL-Swimming-Inflatable-Newest-Protection/dp/B083VRT815/ref=zg_bs_toys-and-games_11/141-1794860-1640200?pd_rd_i=B083VSRKRG&psc=1',\n",
       "  'product_id': 'B083VRT815'},\n",
       " {'url': 'https://www.amazon.com/Basic-Fun-2020-Care-Bears/dp/B084JCXB87/ref=zg_bs_toys-and-games_6/141-1794860-1640200?pd_rd_i=B08R1X5T33&psc=1',\n",
       "  'product_id': 'B084JCXB87'},\n",
       " {'url': 'https://www.amazon.com/Intex-River-Lounge-Inflatable-Diameter/dp/B000PEOMC8/ref=zg_bs_toys-and-games_16/141-1794860-1640200?pd_rd_i=B09GQ8T6N4&psc=1',\n",
       "  'product_id': 'B000PEOMC8'},\n",
       " {'url': 'https://www.amazon.com/Balloons-Filling-Backyard-Swimming-CG76119P/dp/B09VCM5MYK/ref=zg_bs_toys-and-games_18/141-1794860-1640200?pd_rd_i=B0B3S4C565&psc=1',\n",
       "  'product_id': 'B09VCM5MYK'},\n",
       " {'url': 'https://www.amazon.com/SplashEZ-Splash-Sprinkler-Toddler-Learning/dp/B0836WRWFY/ref=zg_bs_toys-and-games_28/141-1794860-1640200?pd_rd_i=B084ZNK9NV&psc=1',\n",
       "  'product_id': 'B0836WRWFY'},\n",
       " {'url': 'https://www.amazon.com/Crayola-Construction-Classic-Projects-Classrooms/dp/B003W0PBR2/ref=zg_bs_toys-and-games_20/141-1794860-1640200?pd_rd_i=B003W0PBR2&psc=1',\n",
       "  'product_id': 'B003W0PBR2'},\n",
       " {'url': 'https://www.amazon.com/Colorful-Writing-Learning-Educational-Drawing/dp/B08Z3TGRKZ/ref=zg_bs_toys-and-games_29/141-1794860-1640200?pd_rd_i=B09SV6XP5K&psc=1',\n",
       "  'product_id': 'B08Z3TGRKZ'},\n",
       " {'url': 'https://www.amazon.com/Glow-Sticks-Bulk-Party-Supplies/dp/B07ZV31J31/ref=zg_bs_toys-and-games_5/141-1794860-1640200?pd_rd_i=B08B146216&psc=1',\n",
       "  'product_id': 'B07ZV31J31'},\n",
       " {'url': 'https://www.amazon.com/Bunch-Balloons-Zuru-Self-Sealing-Water/dp/B07FL35M4Z/ref=zg_bs_toys-and-games_2/141-1794860-1640200?pd_rd_i=B09T9P47P9&psc=1',\n",
       "  'product_id': 'B07FL35M4Z'},\n",
       " {'url': 'https://www.amazon.com/Swimming-Inflatable-Multi-Purpose-Floating-Floaties/dp/B09TSM647Q/ref=zg_bs_toys-and-games_22/141-1794860-1640200?pd_rd_i=B08V4ZR9N7&psc=1',\n",
       "  'product_id': 'B09TSM647Q'},\n",
       " {'url': 'https://www.amazon.com/Bunchs-Balloons-Rapid-Filling-SelfSealing-00627_2A/dp/B0B57CMVFY/ref=zg_bs_toys-and-games_4/141-1794860-1640200?pd_rd_i=B09V29B8J1&psc=1',\n",
       "  'product_id': 'B0B57CMVFY'},\n",
       " {'url': 'https://www.amazon.com/Bentgo-Kids-Prints-Camouflage-5-Compartment/dp/B07R2CNSTK/ref=zg_bs_toys-and-games_13/141-1794860-1640200?pd_rd_i=B07SZHBGZH&psc=1',\n",
       "  'product_id': 'B07R2CNSTK'},\n",
       " {'url': 'https://www.amazon.com/Sassy-Stacks-Circles-Stacking-Learning/dp/B07NXDJ52C/ref=zg_bs_toys-and-games_19/141-1794860-1640200?pd_rd_i=B09STL9ZN7&psc=1',\n",
       "  'product_id': 'B07NXDJ52C'},\n",
       " {'url': 'https://www.amazon.com/Family-Sturdy-Storage-Travel-Friendly-Exclusive/dp/B07P6MZPK3/ref=zg_bs_toys-and-games_24/141-1794860-1640200?pd_rd_i=B09PRL4CDJ&psc=1',\n",
       "  'product_id': 'B07P6MZPK3'},\n",
       " {'url': 'https://www.amazon.com/Barbie-Chelsea-Birthday-Playset-Accessories/dp/B08HFT1PX7/ref=zg_bs_toys-and-games_12/141-1794860-1640200?pd_rd_i=B08HFT1PX7&psc=1',\n",
       "  'product_id': 'B08HFT1PX7'},\n",
       " {'url': 'https://www.amazon.com/Free-Swimming-Baby-Inflatable-Accessories/dp/B0721MB4L6/ref=zg_bs_toys-and-games_30/141-1794860-1640200?pd_rd_i=B08K3Q7MYF&psc=1',\n",
       "  'product_id': 'B0721MB4L6'}]"
      ]
     },
     "execution_count": 23,
     "metadata": {},
     "output_type": "execute_result"
    }
   ],
   "source": [
    "cleaned_links"
   ]
  },
  {
   "cell_type": "code",
   "execution_count": 22,
   "id": "af01446e",
   "metadata": {},
   "outputs": [],
   "source": [
    "def perform_scrape(cleaned_items=[]):\n",
    "    data_extracted = []\n",
    "    for obj in cleaned_items:\n",
    "        link = obj['url']\n",
    "        product_id = obj['product_id']\n",
    "        title, price = (None, None)\n",
    "        try:\n",
    "            title, price = scrape_product_page(link)\n",
    "        except:\n",
    "            pass\n",
    "        if title != None and price != None:\n",
    "            print(link, title, price)\n",
    "        product_data = {\n",
    "            \"url\": link,\n",
    "            \"product_id\": product_id,\n",
    "            \"title\": title,\n",
    "            \"price\": price\n",
    "        }"
   ]
  },
  {
   "cell_type": "code",
   "execution_count": null,
   "id": "f5c30b4b",
   "metadata": {},
   "outputs": [],
   "source": []
  }
 ],
 "metadata": {
  "kernelspec": {
   "display_name": "Python 3 (ipykernel)",
   "language": "python",
   "name": "python3"
  },
  "language_info": {
   "codemirror_mode": {
    "name": "ipython",
    "version": 3
   },
   "file_extension": ".py",
   "mimetype": "text/x-python",
   "name": "python",
   "nbconvert_exporter": "python",
   "pygments_lexer": "ipython3",
   "version": "3.9.10"
  }
 },
 "nbformat": 4,
 "nbformat_minor": 5
}
