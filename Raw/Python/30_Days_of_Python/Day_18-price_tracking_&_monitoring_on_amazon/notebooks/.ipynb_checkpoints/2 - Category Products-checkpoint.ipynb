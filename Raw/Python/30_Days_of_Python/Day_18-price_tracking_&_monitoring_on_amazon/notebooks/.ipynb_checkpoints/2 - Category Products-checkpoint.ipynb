{
 "cells": [
  {
   "cell_type": "code",
   "execution_count": 21,
   "id": "4685d74e",
   "metadata": {},
   "outputs": [],
   "source": [
    "import time\n",
    "import requests\n",
    "from requests_html import HTML"
   ]
  },
  {
   "cell_type": "code",
   "execution_count": 2,
   "id": "d960f9ae",
   "metadata": {},
   "outputs": [],
   "source": [
    "from selenium import webdriver\n",
    "from selenium import webdriver\n",
    "from selenium.webdriver.chrome.service import Service\n",
    "from selenium.webdriver.chrome.options import Options\n",
    "from selenium.webdriver.common.by import By\n",
    "from webdriver_manager.chrome import ChromeDriverManager"
   ]
  },
  {
   "cell_type": "code",
   "execution_count": 3,
   "id": "5aaf111a",
   "metadata": {},
   "outputs": [
    {
     "name": "stdout",
     "output_type": "stream",
     "text": [
      "\n"
     ]
    },
    {
     "name": "stderr",
     "output_type": "stream",
     "text": [
      "[WDM] - ====== WebDriver manager ======\n",
      "[WDM] - Current google-chrome version is 102.0.5005\n",
      "[WDM] - Get LATEST chromedriver version for 102.0.5005 google-chrome\n",
      "[WDM] - Driver [C:\\Users\\kamil\\.wdm\\drivers\\chromedriver\\win32\\102.0.5005.61\\chromedriver.exe] found in cache\n"
     ]
    }
   ],
   "source": [
    "options = Options()\n",
    "options.add_argument(\"--headless\")\n",
    "\n",
    "driver = webdriver.Chrome(options=options,service=Service(ChromeDriverManager().install()))"
   ]
  },
  {
   "cell_type": "code",
   "execution_count": 7,
   "id": "ef79ac04",
   "metadata": {},
   "outputs": [],
   "source": [
    "categories = [\n",
    "    \"https://www.amazon.com/gp/bestsellers/toys-and-games\",\n",
    "    \"https://www.amazon.com/gp/bestsellers/electronics\",\n",
    "    \"https://www.amazon.com/gp/bestsellers/electronics\"\n",
    "]"
   ]
  },
  {
   "cell_type": "code",
   "execution_count": 8,
   "id": "eed5f535",
   "metadata": {},
   "outputs": [
    {
     "data": {
      "text/plain": [
       "['https://www.amazon.com/gp/bestsellers/toys-and-games',\n",
       " 'https://www.amazon.com/gp/bestsellers/electronics',\n",
       " 'https://www.amazon.com/gp/bestsellers/electronics']"
      ]
     },
     "execution_count": 8,
     "metadata": {},
     "output_type": "execute_result"
    }
   ],
   "source": [
    "categories"
   ]
  },
  {
   "cell_type": "code",
   "execution_count": 9,
   "id": "89c0d9ce",
   "metadata": {},
   "outputs": [],
   "source": [
    "first_url = categories[0]"
   ]
  },
  {
   "cell_type": "code",
   "execution_count": 11,
   "id": "59470a37",
   "metadata": {},
   "outputs": [],
   "source": [
    "driver.get(first_url)"
   ]
  },
  {
   "cell_type": "code",
   "execution_count": 13,
   "id": "6f8e8345",
   "metadata": {},
   "outputs": [],
   "source": [
    "body_el = driver.find_element(By.CSS_SELECTOR, \"body\")\n",
    "html_str = body_el.get_attribute(\"innerHTML\")"
   ]
  },
  {
   "cell_type": "code",
   "execution_count": 14,
   "id": "f54fb118",
   "metadata": {},
   "outputs": [],
   "source": [
    "html_obj = HTML(html=html_str)"
   ]
  },
  {
   "cell_type": "code",
   "execution_count": 17,
   "id": "5a7fe91f",
   "metadata": {},
   "outputs": [],
   "source": [
    "new_links = [x for x in html_obj.links if x.startswith(\"/\")]"
   ]
  },
  {
   "cell_type": "code",
   "execution_count": 19,
   "id": "6c8e4816",
   "metadata": {},
   "outputs": [],
   "source": [
    "page_links = [f\"https://www.amazon.com{x}\" for x in new_links]"
   ]
  },
  {
   "cell_type": "code",
   "execution_count": null,
   "id": "10dcf0ac",
   "metadata": {
    "scrolled": true
   },
   "outputs": [],
   "source": [
    "# page_links"
   ]
  },
  {
   "cell_type": "code",
   "execution_count": 25,
   "id": "463fd8e0",
   "metadata": {},
   "outputs": [],
   "source": [
    "def scrape_product_page(\n",
    "    url, \n",
    "    title_lookup = \"#productTitle\",\n",
    "    price_lookup = \".apexPriceToPay\"\n",
    "):\n",
    "    driver.get(url)\n",
    "    time.sleep(1.2)\n",
    "    body_el = driver.find_element(By.CSS_SELECTOR, \"body\")\n",
    "    html_str = body_el.get_attribute(\"innerHTML\")\n",
    "    html_obj = HTML(html=html_str)\n",
    "    product_title = html_obj.find(title_lookup, first=True).text\n",
    "    product_price = html_obj.find(price_lookup, first=True).text\n",
    "    product_price = slice(7)\n",
    "    return product_title, product_price"
   ]
  },
  {
   "cell_type": "code",
   "execution_count": 23,
   "id": "3f456353",
   "metadata": {},
   "outputs": [
    {
     "data": {
      "text/plain": [
       "'https://www.amazon.com/product-reviews/B07SWNN6DS/ref=zg_bs_toys-and-games_cr_29/143-3646315-8507660?pd_rd_i=B07SWNN6DS'"
      ]
     },
     "execution_count": 23,
     "metadata": {},
     "output_type": "execute_result"
    }
   ],
   "source": [
    "first_product_link = page_links[0]\n",
    "first_product_link"
   ]
  },
  {
   "cell_type": "code",
   "execution_count": null,
   "id": "0cc8f8ad",
   "metadata": {},
   "outputs": [
    {
     "name": "stdout",
     "output_type": "stream",
     "text": [
      "https://www.amazon.com/Blinger-Ultimate-Collection-Comes-Styling/dp/B07ZKTBGR2/ref=zg_bs_toys-and-games_6/143-3646315-8507660?pd_rd_i=B07ZKTBGR2&psc=1 Blinger Ultimate Set, Glam Collection, Comes with Glam Styling Tool & 225 Gems - Load, Click, Bling! Hair, Fashion, Anything! (Amazon Exclusive), slice(None, 7, None)\n",
      "https://www.amazon.com/Fidget-fidgets-Popper-Sensory-Decompression/dp/B097ZH3KHT/ref=zg_bs_toys-and-games_26/143-3646315-8507660?pd_rd_i=B097ZH3KHT&psc=1 Fidget Toys,Big Pop It Game with Dice,Pop its fidgets for Girl and boy,Jumbo Board Games for Kids,Popper Sensory Toys,Decompression Game Toys slice(None, 7, None)\n",
      "https://www.amazon.com/Bentgo-Kids-Prints-Camouflage-5-Compartment/dp/B07R2CNSTK/ref=zg_bs_toys-and-games_14/143-3646315-8507660?pd_rd_i=B07SZHBGZH&psc=1 Bentgo Kids Prints (Camouflage) - Leak-Proof, 5-Compartment Bento-Style Kids Lunch Box – Ideal Portion Sizes for Ages 3 to 7 – BPA-Free and Food-Safe Materials slice(None, 7, None)\n",
      "https://www.amazon.com/Sassy-Stacks-Circles-Stacking-Learning/dp/B07NXDJ52C/ref=zg_bs_toys-and-games_18/143-3646315-8507660?pd_rd_i=B09STL9ZN7&psc=1 Sassy Stacks of Circles Stacking Ring STEM Learning Toy, Age 6+ Months, Multi, 9 Piece Set slice(None, 7, None)\n"
     ]
    }
   ],
   "source": [
    "for link in page_links:\n",
    "    title, price = (None, None)\n",
    "    try:\n",
    "        title, price = scrape_product_page(link)\n",
    "    except:\n",
    "        pass\n",
    "    if title != None and price != None:\n",
    "        print(link, title, price)"
   ]
  },
  {
   "cell_type": "code",
   "execution_count": null,
   "id": "cd3e24fa",
   "metadata": {},
   "outputs": [],
   "source": []
  }
 ],
 "metadata": {
  "kernelspec": {
   "display_name": "Python 3 (ipykernel)",
   "language": "python",
   "name": "python3"
  },
  "language_info": {
   "codemirror_mode": {
    "name": "ipython",
    "version": 3
   },
   "file_extension": ".py",
   "mimetype": "text/x-python",
   "name": "python",
   "nbconvert_exporter": "python",
   "pygments_lexer": "ipython3",
   "version": "3.9.11"
  }
 },
 "nbformat": 4,
 "nbformat_minor": 5
}
