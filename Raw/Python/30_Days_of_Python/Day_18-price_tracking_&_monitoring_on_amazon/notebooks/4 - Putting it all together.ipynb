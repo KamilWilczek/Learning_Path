{
 "cells": [
  {
   "cell_type": "code",
   "execution_count": 1,
   "id": "4685d74e",
   "metadata": {},
   "outputs": [],
   "source": [
    "import datetime\n",
    "from pathlib import Path\n",
    "import time\n",
    "import re\n",
    "from requests_html import HTML\n",
    "import pandas as pd"
   ]
  },
  {
   "cell_type": "code",
   "execution_count": 2,
   "id": "d960f9ae",
   "metadata": {},
   "outputs": [],
   "source": [
    "from selenium import webdriver\n",
    "from selenium import webdriver\n",
    "from selenium.webdriver.chrome.service import Service\n",
    "from selenium.webdriver.chrome.options import Options\n",
    "from selenium.webdriver.common.by import By\n",
    "from webdriver_manager.chrome import ChromeDriverManager"
   ]
  },
  {
   "cell_type": "code",
   "execution_count": 3,
   "id": "9ab9815b",
   "metadata": {},
   "outputs": [],
   "source": [
    "BASE_DIR = Path.cwd()\n",
    "DATA_DIR = BASE_DIR / \"data\" # os.path.join(BASE_DIR, 'data')\n",
    "if not DATA_DIR.exists(): # os.path.exists(DATA_DIR)\n",
    "    DATA_DIR.mkdir(exist_ok=True) # os.makedirs(DATA_DIR, exist_ok=True)\n",
    "    \n",
    "product_category_links_output = DATA_DIR / \"category-products.csv\"\n",
    "product_output = DATA_DIR / \"products.csv\""
   ]
  },
  {
   "cell_type": "code",
   "execution_count": 4,
   "id": "5aaf111a",
   "metadata": {},
   "outputs": [
    {
     "name": "stdout",
     "output_type": "stream",
     "text": [
      "\n"
     ]
    },
    {
     "name": "stderr",
     "output_type": "stream",
     "text": [
      "[WDM] - ====== WebDriver manager ======\n",
      "[WDM] - Current google-chrome version is 103.0.5060\n",
      "[WDM] - Get LATEST chromedriver version for 103.0.5060 google-chrome\n",
      "[WDM] - Driver [C:\\Users\\kamil\\.wdm\\drivers\\chromedriver\\win32\\103.0.5060.53\\chromedriver.exe] found in cache\n"
     ]
    }
   ],
   "source": [
    "options = Options()\n",
    "options.add_argument(\"--headless\")\n",
    "\n",
    "driver = webdriver.Chrome(options=options,service=Service(ChromeDriverManager().install()))"
   ]
  },
  {
   "cell_type": "code",
   "execution_count": 5,
   "id": "ef79ac04",
   "metadata": {},
   "outputs": [],
   "source": [
    "categories = [\n",
    "    {\"name\": \"toys-and-games\", \"url\": \"https://www.amazon.com/gp/bestsellers/toys-and-games\"},\n",
    "    {\"name\": \"electronics\", \"url\": \"https://www.amazon.com/gp/bestsellers/electronics\"},\n",
    "    {\"name\": \"books\", \"url\": \"https://www.amazon.com/gp/bestsellers/books\"}\n",
    "]"
   ]
  },
  {
   "cell_type": "code",
   "execution_count": 6,
   "id": "2423c9de",
   "metadata": {},
   "outputs": [],
   "source": [
    "regex_options = [\n",
    "    r\"https://www.amazon.com/gp/product/(?P<product_id>[\\w-]+)/\",\n",
    "    r\"https://www.amazon.com/dp/(?P<product_id>[\\w-]+)/\",\n",
    "    r\"https://www.amazon.com/(?P<slug>[\\w-]+)/dp/(?P<product_id>[\\w-]+)/\",\n",
    "]\n",
    "\n",
    "def extract_product_id_from_url(url):\n",
    "    product_id = None\n",
    "    for regex_str in regex_options:\n",
    "        regex = re.compile(regex_str)\n",
    "        match = regex.match(url)\n",
    "        if match != None:\n",
    "            try:\n",
    "                product_id = match['product_id']\n",
    "            except:\n",
    "                pass\n",
    "    return product_id"
   ]
  },
  {
   "cell_type": "code",
   "execution_count": 7,
   "id": "6c8e4816",
   "metadata": {},
   "outputs": [],
   "source": [
    "def clean_page_links(page_links=[], category=None):\n",
    "    final_page_links = []\n",
    "    for url in page_links:\n",
    "        product_id = extract_product_id_from_url(url)\n",
    "        if product_id != None:\n",
    "            final_page_links.append({\"url\": url, \"product_id\": product_id, \"category\": category})\n",
    "    return final_page_links"
   ]
  },
  {
   "cell_type": "code",
   "execution_count": 8,
   "id": "eed5f535",
   "metadata": {},
   "outputs": [],
   "source": [
    "def scrape_category_product_links(categories=[]):\n",
    "    all_product_links = []\n",
    "    for category in categories:\n",
    "        time.sleep(1.5)\n",
    "        url = category.get(\"url\")\n",
    "        driver.get(url)\n",
    "        body_el = driver.find_element(By.CSS_SELECTOR, \"body\")\n",
    "        html_str = body_el.get_attribute(\"innerHTML\")\n",
    "        html_obj = HTML(html=html_str)\n",
    "        page_links = [f\"https://www.amazon.com{x}\" for x in html_obj.links if x.startswith(\"/\")]\n",
    "        cleaned_links = clean_page_links(page_links=page_links, category=category)\n",
    "        all_product_links += cleaned_links\n",
    "    \n",
    "    return all_product_links"
   ]
  },
  {
   "cell_type": "code",
   "execution_count": 9,
   "id": "b1a99acb",
   "metadata": {},
   "outputs": [],
   "source": [
    "def extract_categories_and_save(categories=[]):\n",
    "    all_product_links = scrape_category_product_links(categories)\n",
    "    category_df = pd.DataFrame(all_product_links)\n",
    "    category_df.to_csv(product_category_links_output, index=False)"
   ]
  },
  {
   "cell_type": "code",
   "execution_count": 10,
   "id": "afee6049",
   "metadata": {},
   "outputs": [],
   "source": [
    "extract_categories_and_save(categories=categories)"
   ]
  },
  {
   "cell_type": "code",
   "execution_count": 11,
   "id": "463fd8e0",
   "metadata": {},
   "outputs": [],
   "source": [
    "def scrape_product_page(\n",
    "    url, \n",
    "    title_lookup = \"#productTitle\",\n",
    "    price_lookup = \".apexPriceToPay\"\n",
    "):\n",
    "    driver.get(url)\n",
    "    time.sleep(1.2)\n",
    "    body_el = driver.find_element(By.CSS_SELECTOR, \"body\")\n",
    "    html_str = body_el.get_attribute(\"innerHTML\")\n",
    "    html_obj = HTML(html=html_str)\n",
    "    product_title = html_obj.find(title_lookup, first=True).text\n",
    "    product_price = html_obj.find(price_lookup, first=True).text\n",
    "    return product_title, product_price"
   ]
  },
  {
   "cell_type": "code",
   "execution_count": 12,
   "id": "e28097ba",
   "metadata": {},
   "outputs": [],
   "source": [
    "def perform_scrape(cleaned_items=[]):\n",
    "    data_extracted = []\n",
    "    for obj in cleaned_items:\n",
    "        link = obj['url']\n",
    "        product_id = obj['product_id']\n",
    "        title, price = (None, None)\n",
    "        try:\n",
    "            title, price = scrape_product_page(link)\n",
    "        except:\n",
    "            pass\n",
    "        if title != None and price != None:\n",
    "            print(link, title, price)\n",
    "        product_data = {\n",
    "            \"url\": link,\n",
    "            \"product_id\": product_id,\n",
    "            \"title\": title,\n",
    "            \"price\": price\n",
    "        }\n",
    "        data_extracted.append(product_data)\n",
    "        \n",
    "    return data_extracted"
   ]
  },
  {
   "cell_type": "code",
   "execution_count": 13,
   "id": "a7834227",
   "metadata": {},
   "outputs": [],
   "source": [
    "# extracted_data = perform_scrape(cleaned_items=cleaned_links)"
   ]
  },
  {
   "cell_type": "code",
   "execution_count": 14,
   "id": "c1c85bb6",
   "metadata": {},
   "outputs": [],
   "source": [
    "# print(extracted_data)"
   ]
  },
  {
   "cell_type": "code",
   "execution_count": 15,
   "id": "b546ba6b",
   "metadata": {},
   "outputs": [],
   "source": [
    "def row_scrape_event(row, *args, **kwargs):\n",
    "    link = row['url']\n",
    "    scraped = 0\n",
    "    try:\n",
    "        scraped = row['scraped']\n",
    "    except:\n",
    "        pass\n",
    "#     print('link')\n",
    "    if scraped == 1 or scraped == \"1\":\n",
    "        return row\n",
    "    product_id = row['product_id']\n",
    "    title, price = (None, None)\n",
    "    try:\n",
    "        title, price = scrape_product_page(link)\n",
    "    except:\n",
    "        pass\n",
    "    row['title'] = title\n",
    "    row['price'] = price\n",
    "    row['scraped'] = 1\n",
    "    row['timestamp'] = datetime.datetime.now().timestamp()\n",
    "#     print(title, price)\n",
    "    return row"
   ]
  },
  {
   "cell_type": "code",
   "execution_count": 16,
   "id": "e9676ee6",
   "metadata": {},
   "outputs": [
    {
     "data": {
      "text/html": [
       "<div>\n",
       "<style scoped>\n",
       "    .dataframe tbody tr th:only-of-type {\n",
       "        vertical-align: middle;\n",
       "    }\n",
       "\n",
       "    .dataframe tbody tr th {\n",
       "        vertical-align: top;\n",
       "    }\n",
       "\n",
       "    .dataframe thead th {\n",
       "        text-align: right;\n",
       "    }\n",
       "</style>\n",
       "<table border=\"1\" class=\"dataframe\">\n",
       "  <thead>\n",
       "    <tr style=\"text-align: right;\">\n",
       "      <th></th>\n",
       "      <th>url</th>\n",
       "      <th>product_id</th>\n",
       "      <th>category</th>\n",
       "    </tr>\n",
       "  </thead>\n",
       "  <tbody>\n",
       "    <tr>\n",
       "      <th>0</th>\n",
       "      <td>https://www.amazon.com/Crayola-Colored-Pencil-...</td>\n",
       "      <td>B00006RVTS</td>\n",
       "      <td>{'name': 'toys-and-games', 'url': 'https://www...</td>\n",
       "    </tr>\n",
       "    <tr>\n",
       "      <th>1</th>\n",
       "      <td>https://www.amazon.com/SEQUENCE-Original-SEQUE...</td>\n",
       "      <td>B00000IVAK</td>\n",
       "      <td>{'name': 'toys-and-games', 'url': 'https://www...</td>\n",
       "    </tr>\n",
       "    <tr>\n",
       "      <th>2</th>\n",
       "      <td>https://www.amazon.com/Hoyle-Waterproof-Clear-...</td>\n",
       "      <td>B000J3Z7TC</td>\n",
       "      <td>{'name': 'toys-and-games', 'url': 'https://www...</td>\n",
       "    </tr>\n",
       "    <tr>\n",
       "      <th>3</th>\n",
       "      <td>https://www.amazon.com/Bentgo-Kids-Prints-Camo...</td>\n",
       "      <td>B07R2CNSTK</td>\n",
       "      <td>{'name': 'toys-and-games', 'url': 'https://www...</td>\n",
       "    </tr>\n",
       "    <tr>\n",
       "      <th>4</th>\n",
       "      <td>https://www.amazon.com/Funko-Pop-Marvel-Spider...</td>\n",
       "      <td>B09L1NML8K</td>\n",
       "      <td>{'name': 'toys-and-games', 'url': 'https://www...</td>\n",
       "    </tr>\n",
       "  </tbody>\n",
       "</table>\n",
       "</div>"
      ],
      "text/plain": [
       "                                                 url  product_id  \\\n",
       "0  https://www.amazon.com/Crayola-Colored-Pencil-...  B00006RVTS   \n",
       "1  https://www.amazon.com/SEQUENCE-Original-SEQUE...  B00000IVAK   \n",
       "2  https://www.amazon.com/Hoyle-Waterproof-Clear-...  B000J3Z7TC   \n",
       "3  https://www.amazon.com/Bentgo-Kids-Prints-Camo...  B07R2CNSTK   \n",
       "4  https://www.amazon.com/Funko-Pop-Marvel-Spider...  B09L1NML8K   \n",
       "\n",
       "                                            category  \n",
       "0  {'name': 'toys-and-games', 'url': 'https://www...  \n",
       "1  {'name': 'toys-and-games', 'url': 'https://www...  \n",
       "2  {'name': 'toys-and-games', 'url': 'https://www...  \n",
       "3  {'name': 'toys-and-games', 'url': 'https://www...  \n",
       "4  {'name': 'toys-and-games', 'url': 'https://www...  "
      ]
     },
     "execution_count": 16,
     "metadata": {},
     "output_type": "execute_result"
    }
   ],
   "source": [
    "df = pd.read_csv(product_category_links_output)\n",
    "df.head()"
   ]
  },
  {
   "cell_type": "code",
   "execution_count": 17,
   "id": "333d63e5",
   "metadata": {},
   "outputs": [
    {
     "data": {
      "text/plain": [
       "(90, 3)"
      ]
     },
     "execution_count": 17,
     "metadata": {},
     "output_type": "execute_result"
    }
   ],
   "source": [
    "df.shape"
   ]
  },
  {
   "cell_type": "code",
   "execution_count": 18,
   "id": "758920af",
   "metadata": {},
   "outputs": [],
   "source": [
    "df_sub = df.copy() # df.head(n=10)"
   ]
  },
  {
   "cell_type": "code",
   "execution_count": null,
   "id": "98e8c3cc",
   "metadata": {},
   "outputs": [],
   "source": [
    "df_sub = df_sub.apply(row_scrape_event, axis=1)"
   ]
  },
  {
   "cell_type": "code",
   "execution_count": null,
   "id": "51e3a282",
   "metadata": {},
   "outputs": [],
   "source": [
    "# df.to_csv(product_output, index=False)"
   ]
  },
  {
   "cell_type": "code",
   "execution_count": null,
   "id": "129d7003",
   "metadata": {},
   "outputs": [],
   "source": [
    "products_df = pd.read_csv(product_output)\n",
    "# products_df.head()"
   ]
  },
  {
   "cell_type": "code",
   "execution_count": null,
   "id": "06e21b73",
   "metadata": {},
   "outputs": [],
   "source": [
    "final_df = pd.concat([products_df, df_sub])\n",
    "final_df.to_csv(product_output, index=False)"
   ]
  },
  {
   "cell_type": "code",
   "execution_count": null,
   "id": "74d47132",
   "metadata": {},
   "outputs": [],
   "source": [
    "final_df.tail()"
   ]
  },
  {
   "cell_type": "code",
   "execution_count": null,
   "id": "a1b82288",
   "metadata": {},
   "outputs": [],
   "source": []
  }
 ],
 "metadata": {
  "kernelspec": {
   "display_name": "Python 3.9.11 ('30dopvenv': venv)",
   "language": "python",
   "name": "python3"
  },
  "language_info": {
   "codemirror_mode": {
    "name": "ipython",
    "version": 3
   },
   "file_extension": ".py",
   "mimetype": "text/x-python",
   "name": "python",
   "nbconvert_exporter": "python",
   "pygments_lexer": "ipython3",
   "version": "3.9.11"
  },
  "vscode": {
   "interpreter": {
    "hash": "a1a89d8ddd21c82304ee35628ba26e52e8f1e9f69344067c7805582c08b2965a"
   }
  }
 },
 "nbformat": 4,
 "nbformat_minor": 5
}
