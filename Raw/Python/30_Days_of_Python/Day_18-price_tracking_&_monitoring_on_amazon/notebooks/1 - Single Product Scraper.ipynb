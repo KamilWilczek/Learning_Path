{
 "cells": [
  {
   "cell_type": "code",
   "execution_count": null,
   "id": "8e950b26",
   "metadata": {},
   "outputs": [],
   "source": [
    "url = 'https://www.amazon.com/Sunny-Health-Fitness-Stationary-Performance/dp/B07XQM9NRJ/ref=sr_1_9?crid=4KM66TVRB3LY&keywords=cycling+bike&qid=1656397090&refinements=p_89%3ASunny+Health+%26+Fitness&rnid=2528832011&s=sporting-goods&sprefix=cycling+bike%2Caps%2C170&sr=1-9'\n",
    "title_lookup = \"#productTitle\"\n",
    "price_lookup = "
   ]
  }
 ],
 "metadata": {
  "kernelspec": {
   "display_name": "Python 3 (ipykernel)",
   "language": "python",
   "name": "python3"
  },
  "language_info": {
   "codemirror_mode": {
    "name": "ipython",
    "version": 3
   },
   "file_extension": ".py",
   "mimetype": "text/x-python",
   "name": "python",
   "nbconvert_exporter": "python",
   "pygments_lexer": "ipython3",
   "version": "3.9.10"
  }
 },
 "nbformat": 4,
 "nbformat_minor": 5
}
