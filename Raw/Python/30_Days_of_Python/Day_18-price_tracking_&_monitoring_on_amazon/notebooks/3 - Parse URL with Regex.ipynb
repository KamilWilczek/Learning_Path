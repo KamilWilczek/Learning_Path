{
 "cells": [
  {
   "cell_type": "code",
   "execution_count": 1,
   "id": "4685d74e",
   "metadata": {},
   "outputs": [],
   "source": [
    "import time\n",
    "import re\n",
    "import requests\n",
    "from requests_html import HTML"
   ]
  },
  {
   "cell_type": "code",
   "execution_count": 2,
   "id": "d960f9ae",
   "metadata": {},
   "outputs": [],
   "source": [
    "from selenium import webdriver\n",
    "from selenium import webdriver\n",
    "from selenium.webdriver.chrome.service import Service\n",
    "from selenium.webdriver.chrome.options import Options\n",
    "from selenium.webdriver.common.by import By\n",
    "from webdriver_manager.chrome import ChromeDriverManager"
   ]
  },
  {
   "cell_type": "code",
   "execution_count": 3,
   "id": "5aaf111a",
   "metadata": {},
   "outputs": [
    {
     "name": "stdout",
     "output_type": "stream",
     "text": [
      "\n"
     ]
    },
    {
     "name": "stderr",
     "output_type": "stream",
     "text": [
      "[WDM] - ====== WebDriver manager ======\n",
      "[WDM] - Current google-chrome version is 102.0.5005\n",
      "[WDM] - Get LATEST chromedriver version for 102.0.5005 google-chrome\n",
      "[WDM] - Driver [C:\\Users\\admin\\.wdm\\drivers\\chromedriver\\win32\\102.0.5005.61\\chromedriver.exe] found in cache\n"
     ]
    }
   ],
   "source": [
    "options = Options()\n",
    "options.add_argument(\"--headless\")\n",
    "\n",
    "driver = webdriver.Chrome(options=options,service=Service(ChromeDriverManager().install()))"
   ]
  },
  {
   "cell_type": "code",
   "execution_count": 4,
   "id": "ef79ac04",
   "metadata": {},
   "outputs": [],
   "source": [
    "categories = [\n",
    "    \"https://www.amazon.com/gp/bestsellers/toys-and-games\",\n",
    "    \"https://www.amazon.com/gp/bestsellers/electronics\",\n",
    "    \"https://www.amazon.com/gp/bestsellers/books\"\n",
    "]"
   ]
  },
  {
   "cell_type": "code",
   "execution_count": 5,
   "id": "eed5f535",
   "metadata": {},
   "outputs": [
    {
     "data": {
      "text/plain": [
       "['https://www.amazon.com/gp/bestsellers/toys-and-games',\n",
       " 'https://www.amazon.com/gp/bestsellers/electronics',\n",
       " 'https://www.amazon.com/gp/bestsellers/books']"
      ]
     },
     "execution_count": 5,
     "metadata": {},
     "output_type": "execute_result"
    }
   ],
   "source": [
    "categories"
   ]
  },
  {
   "cell_type": "code",
   "execution_count": 6,
   "id": "89c0d9ce",
   "metadata": {},
   "outputs": [],
   "source": [
    "first_url = categories[0]"
   ]
  },
  {
   "cell_type": "code",
   "execution_count": 7,
   "id": "59470a37",
   "metadata": {},
   "outputs": [],
   "source": [
    "driver.get(first_url)"
   ]
  },
  {
   "cell_type": "code",
   "execution_count": 8,
   "id": "6f8e8345",
   "metadata": {},
   "outputs": [],
   "source": [
    "body_el = driver.find_element(By.CSS_SELECTOR, \"body\")\n",
    "html_str = body_el.get_attribute(\"innerHTML\")"
   ]
  },
  {
   "cell_type": "code",
   "execution_count": 9,
   "id": "f54fb118",
   "metadata": {},
   "outputs": [],
   "source": [
    "html_obj = HTML(html=html_str)"
   ]
  },
  {
   "cell_type": "code",
   "execution_count": 10,
   "id": "5a7fe91f",
   "metadata": {},
   "outputs": [],
   "source": [
    "# new_links = [x for x in html_obj.links if x.startswith(\"/\")]\n",
    "# new_links = [x for x in new_links if \"product-reviews/\" not in x]\n",
    "# page_links = [f\"https://www.amazon.com{x}\" for x in new_links]\n",
    "page_links = [f\"https://www.amazon.com{x}\" for x in html_obj.links if x.startswith(\"/\")]\n",
    "# page_links [x for x in page_links if extract_product_id_from_url(x) != None]"
   ]
  },
  {
   "cell_type": "code",
   "execution_count": 11,
   "id": "10dcf0ac",
   "metadata": {
    "scrolled": true
   },
   "outputs": [],
   "source": [
    "# page_links"
   ]
  },
  {
   "cell_type": "code",
   "execution_count": 12,
   "id": "463fd8e0",
   "metadata": {},
   "outputs": [],
   "source": [
    "def scrape_product_page(\n",
    "    url, \n",
    "    title_lookup = \"#productTitle\",\n",
    "    price_lookup = \".apexPriceToPay\"\n",
    "):\n",
    "    driver.get(url)\n",
    "    time.sleep(1.2)\n",
    "    body_el = driver.find_element(By.CSS_SELECTOR, \"body\")\n",
    "    html_str = body_el.get_attribute(\"innerHTML\")\n",
    "    html_obj = HTML(html=html_str)\n",
    "    product_title = html_obj.find(title_lookup, first=True).text\n",
    "    product_price = html_obj.find(price_lookup, first=True).text\n",
    "    return product_title, product_price"
   ]
  },
  {
   "cell_type": "code",
   "execution_count": 13,
   "id": "3f456353",
   "metadata": {},
   "outputs": [],
   "source": [
    "# first_product_link = page_links[0]\n",
    "# first_product_link"
   ]
  },
  {
   "cell_type": "code",
   "execution_count": 14,
   "id": "cd3e24fa",
   "metadata": {},
   "outputs": [],
   "source": [
    "# https://www.amazon.com/Max-Liquidator-6-Pack-Water-Blaster/dp/B0796JVBJ8/\n",
    "# https://www.amazon.com/Play-Doh-Modeling-Compound-Non-Toxic-Exclusive/dp/B00JM5GW10/\n",
    "\n",
    "# <base-url>/<slug>/dp/<product_id>/"
   ]
  },
  {
   "cell_type": "code",
   "execution_count": 15,
   "id": "5d2b93ec",
   "metadata": {},
   "outputs": [],
   "source": [
    "# my_regex_pattern = r\"https://www.amazon.com/(?P<slug>[\\w-]+)/dp/(?P<product_id>[\\w-]+)/\"\n",
    "# my_url = 'https://www.amazon.com/Max-Liquidator-6-Pack-Water-Blaster/dp/B0796JVBJ8/'"
   ]
  },
  {
   "cell_type": "code",
   "execution_count": 16,
   "id": "5645423d",
   "metadata": {},
   "outputs": [],
   "source": [
    "# regex = re.compile(my_regex_pattern)"
   ]
  },
  {
   "cell_type": "code",
   "execution_count": 17,
   "id": "a41d4b9a",
   "metadata": {},
   "outputs": [],
   "source": [
    "# my_match = regex.match(\"abc\")\n",
    "# my_match = regex.match(my_url)\n",
    "# print(my_match)\n",
    "# my_match['product_id']"
   ]
  },
  {
   "cell_type": "code",
   "execution_count": 18,
   "id": "3e45fcde",
   "metadata": {},
   "outputs": [],
   "source": [
    "# my_match['slug']"
   ]
  },
  {
   "cell_type": "code",
   "execution_count": 19,
   "id": "2423c9de",
   "metadata": {},
   "outputs": [],
   "source": [
    "regex_options = [\n",
    "    r\"https://www.amazon.com/gp/product/(?P<product_id>[\\w-]+)/\",\n",
    "    r\"https://www.amazon.com/dp/(?P<product_id>[\\w-]+)/\",\n",
    "    r\"https://www.amazon.com/(?P<slug>[\\w-]+)/dp/(?P<product_id>[\\w-]+)/\",\n",
    "]\n",
    "\n",
    "def extract_product_id_from_url(url):\n",
    "    product_id = None\n",
    "    for regex_str in regex_options:\n",
    "        regex = re.compile(regex_str)\n",
    "        match = regex.match(url)\n",
    "        if match != None:\n",
    "            try:\n",
    "                product_id = match['product_id']\n",
    "            except:\n",
    "                pass\n",
    "    return product_id"
   ]
  },
  {
   "cell_type": "code",
   "execution_count": 20,
   "id": "6c8e4816",
   "metadata": {},
   "outputs": [],
   "source": [
    "def clean_page_links(page_links=[]):\n",
    "    final_page_links = []\n",
    "    for url in page_links:\n",
    "        product_id = extract_product_id_from_url(url)\n",
    "        if product_id != None:\n",
    "            final_page_links.append({\"url\": url, \"product_id\": product_id})\n",
    "    return final_page_links\n",
    "\n",
    "cleaned_links = clean_page_links(page_links)"
   ]
  },
  {
   "cell_type": "code",
   "execution_count": 21,
   "id": "7fe3a4f7",
   "metadata": {},
   "outputs": [
    {
     "data": {
      "text/plain": [
       "False"
      ]
     },
     "execution_count": 21,
     "metadata": {},
     "output_type": "execute_result"
    }
   ],
   "source": [
    "len(page_links) == len(cleaned_links)"
   ]
  },
  {
   "cell_type": "code",
   "execution_count": 22,
   "id": "881d5503",
   "metadata": {},
   "outputs": [
    {
     "name": "stdout",
     "output_type": "stream",
     "text": [
      "page_links 148\n",
      "cleaned_links 29\n"
     ]
    }
   ],
   "source": [
    "print(\"page_links\", len(page_links))\n",
    "print(\"cleaned_links\", len(cleaned_links))"
   ]
  },
  {
   "cell_type": "code",
   "execution_count": 23,
   "id": "21944809",
   "metadata": {
    "scrolled": true
   },
   "outputs": [
    {
     "data": {
      "text/plain": [
       "[{'url': 'https://www.amazon.com/PartySticks-Sticks-Party-Supplies-100pk/dp/B00N1QPNMA/ref=zg_bs_toys-and-games_8/130-8601364-7508027?pd_rd_i=B09Q7KP8GX&psc=1',\n",
       "  'product_id': 'B00N1QPNMA'},\n",
       " {'url': 'https://www.amazon.com/Max-Liquidator-6-Pack-Water-Blaster/dp/B0796JVBJ8/ref=zg_bs_toys-and-games_15/130-8601364-7508027?pd_rd_i=B0796JVBJ8&psc=1',\n",
       "  'product_id': 'B0796JVBJ8'},\n",
       " {'url': 'https://www.amazon.com/Taco-Cat-Goat-Cheese-Pizza/dp/B077Z1R28P/ref=zg_bs_toys-and-games_21/130-8601364-7508027?pd_rd_i=B077Z1R28P&psc=1',\n",
       "  'product_id': 'B077Z1R28P'},\n",
       " {'url': 'https://www.amazon.com/Crayola-Colored-Pencil-Supplies-Assorted/dp/B00006RVTS/ref=zg_bs_toys-and-games_17/130-8601364-7508027?pd_rd_i=B09MH514FH&psc=1',\n",
       "  'product_id': 'B00006RVTS'},\n",
       " {'url': 'https://www.amazon.com/LeapFrog-Animals-Book-Frustration-Packaging/dp/B085KTB1WY/ref=zg_bs_toys-and-games_3/130-8601364-7508027?pd_rd_i=B0953YFR2M&psc=1',\n",
       "  'product_id': 'B085KTB1WY'},\n",
       " {'url': 'https://www.amazon.com/Free-Swimming-Baby-Inflatable-Accessories/dp/B0721MB4L6/ref=zg_bs_toys-and-games_30/130-8601364-7508027?pd_rd_i=B08K3Q7MYF&psc=1',\n",
       "  'product_id': 'B0721MB4L6'},\n",
       " {'url': 'https://www.amazon.com/Colorful-Baby-Toys-brightly-together/dp/B00005C5H4/ref=zg_bs_toys-and-games_27/130-8601364-7508027?pd_rd_i=B07C4NGT17&psc=1',\n",
       "  'product_id': 'B00005C5H4'},\n",
       " {'url': 'https://www.amazon.com/Basic-Fun-2020-Care-Bears/dp/B084JCXB87/ref=zg_bs_toys-and-games_6/130-8601364-7508027?pd_rd_i=B08R1X5T33&psc=1',\n",
       "  'product_id': 'B084JCXB87'},\n",
       " {'url': 'https://www.amazon.com/SwimWays-Recliner-Lounger-Hyper-Flate-Inflatable/dp/B08H8XFJDQ/ref=zg_bs_toys-and-games_10/130-8601364-7508027?pd_rd_i=B09ZYW2YHP&psc=1',\n",
       "  'product_id': 'B08H8XFJDQ'},\n",
       " {'url': 'https://www.amazon.com/Crayola-Construction-Classic-Projects-Classrooms/dp/B003W0PBR2/ref=zg_bs_toys-and-games_20/130-8601364-7508027?pd_rd_i=B003W0PBR2&psc=1',\n",
       "  'product_id': 'B003W0PBR2'},\n",
       " {'url': 'https://www.amazon.com/LAYCOL-Swimming-Inflatable-Newest-Protection/dp/B083VRT815/ref=zg_bs_toys-and-games_11/130-8601364-7508027?pd_rd_i=B083VSRKRG&psc=1',\n",
       "  'product_id': 'B083VRT815'},\n",
       " {'url': 'https://www.amazon.com/Glow-Sticks-Bulk-Party-Supplies/dp/B07ZV31J31/ref=zg_bs_toys-and-games_5/130-8601364-7508027?pd_rd_i=B08B146216&psc=1',\n",
       "  'product_id': 'B07ZV31J31'},\n",
       " {'url': 'https://www.amazon.com/Family-Sturdy-Storage-Travel-Friendly-Exclusive/dp/B07P6MZPK3/ref=zg_bs_toys-and-games_24/130-8601364-7508027?pd_rd_i=B09PRL4CDJ&psc=1',\n",
       "  'product_id': 'B07P6MZPK3'},\n",
       " {'url': 'https://www.amazon.com/Elmers-Liquid-School-Glue-Washable/dp/B072J37ZZD/ref=zg_bs_toys-and-games_25/130-8601364-7508027?pd_rd_i=B09YMS5KV8&psc=1',\n",
       "  'product_id': 'B072J37ZZD'},\n",
       " {'url': 'https://www.amazon.com/Sassy-Stacks-Circles-Stacking-Learning/dp/B07NXDJ52C/ref=zg_bs_toys-and-games_19/130-8601364-7508027?pd_rd_i=B09STL9ZN7&psc=1',\n",
       "  'product_id': 'B07NXDJ52C'},\n",
       " {'url': 'https://www.amazon.com/Intex-River-Lounge-Inflatable-Diameter/dp/B000PEOMC8/ref=zg_bs_toys-and-games_16/130-8601364-7508027?pd_rd_i=B09GQ8T6N4&psc=1',\n",
       "  'product_id': 'B000PEOMC8'},\n",
       " {'url': 'https://www.amazon.com/Aqua-Monterey-Multi-Purpose-Inflatable-Portable/dp/B073WMYP6M/ref=zg_bs_toys-and-games_1/130-8601364-7508027?pd_rd_i=B09X2GCSDD&psc=1',\n",
       "  'product_id': 'B073WMYP6M'},\n",
       " {'url': 'https://www.amazon.com/Bentgo-Kids-Prints-Camouflage-5-Compartment/dp/B07R2CNSTK/ref=zg_bs_toys-and-games_13/130-8601364-7508027?pd_rd_i=B07SZHBGZH&psc=1',\n",
       "  'product_id': 'B07R2CNSTK'},\n",
       " {'url': 'https://www.amazon.com/Blinger-Ultimate-Collection-Comes-Styling/dp/B07ZKTBGR2/ref=zg_bs_toys-and-games_9/130-8601364-7508027?pd_rd_i=B07ZKTBGR2&psc=1',\n",
       "  'product_id': 'B07ZKTBGR2'},\n",
       " {'url': 'https://www.amazon.com/Barbie-Chelsea-Birthday-Playset-Accessories/dp/B08HFT1PX7/ref=zg_bs_toys-and-games_12/130-8601364-7508027?pd_rd_i=B08HFT1PX7&psc=1',\n",
       "  'product_id': 'B08HFT1PX7'},\n",
       " {'url': 'https://www.amazon.com/Colorful-Writing-Learning-Educational-Drawing/dp/B08Z3TGRKZ/ref=zg_bs_toys-and-games_29/130-8601364-7508027?pd_rd_i=B09SV6XP5K&psc=1',\n",
       "  'product_id': 'B08Z3TGRKZ'},\n",
       " {'url': 'https://www.amazon.com/SHASHIBO-Shifting-Geometric-Magnetic-Transforming/dp/B07W7FLKRW/ref=zg_bs_toys-and-games_23/130-8601364-7508027?pd_rd_i=B09NTXBJDM&psc=1',\n",
       "  'product_id': 'B07W7FLKRW'},\n",
       " {'url': 'https://www.amazon.com/SplashEZ-Splash-Sprinkler-Toddler-Learning/dp/B0836WRWFY/ref=zg_bs_toys-and-games_28/130-8601364-7508027?pd_rd_i=B084ZNK9NV&psc=1',\n",
       "  'product_id': 'B0836WRWFY'},\n",
       " {'url': 'https://www.amazon.com/Bunch-Balloons-Zuru-Self-Sealing-Water/dp/B07FL35M4Z/ref=zg_bs_toys-and-games_2/130-8601364-7508027?pd_rd_i=B09T9P47P9&psc=1',\n",
       "  'product_id': 'B07FL35M4Z'},\n",
       " {'url': 'https://www.amazon.com/Balloons-Filling-Backyard-Swimming-CG76119P/dp/B09VCM5MYK/ref=zg_bs_toys-and-games_18/130-8601364-7508027?pd_rd_i=B0B3S4C565&psc=1',\n",
       "  'product_id': 'B09VCM5MYK'},\n",
       " {'url': 'https://www.amazon.com/Swimming-Inflatable-Multi-Purpose-Floating-Floaties/dp/B09TSM647Q/ref=zg_bs_toys-and-games_22/130-8601364-7508027?pd_rd_i=B08V4ZR9N7&psc=1',\n",
       "  'product_id': 'B09TSM647Q'},\n",
       " {'url': 'https://www.amazon.com/Bunchs-Balloons-Rapid-Filling-SelfSealing-00627_2A/dp/B0B57CMVFY/ref=zg_bs_toys-and-games_4/130-8601364-7508027?pd_rd_i=B09V29B8J1&psc=1',\n",
       "  'product_id': 'B0B57CMVFY'},\n",
       " {'url': 'https://www.amazon.com/Play-Doh-Modeling-Compound-Non-Toxic-Exclusive/dp/B00JM5GW10/ref=zg_bs_toys-and-games_14/130-8601364-7508027?pd_rd_i=B00JM5GW10&psc=1',\n",
       "  'product_id': 'B00JM5GW10'},\n",
       " {'url': 'https://www.amazon.com/Beach-Toys-Blue-Ultimate-Skip/dp/B08TPHYWHK/ref=zg_bs_toys-and-games_7/130-8601364-7508027?pd_rd_i=B09FB1JZ2G&psc=1',\n",
       "  'product_id': 'B08TPHYWHK'}]"
      ]
     },
     "execution_count": 23,
     "metadata": {},
     "output_type": "execute_result"
    }
   ],
   "source": [
    "cleaned_links"
   ]
  },
  {
   "cell_type": "code",
   "execution_count": 24,
   "id": "e28097ba",
   "metadata": {},
   "outputs": [],
   "source": [
    "def perform_scrape(cleaned_items=[]):\n",
    "    data_extracted = []\n",
    "    for obj in cleaned_items:\n",
    "        link = obj['url']\n",
    "        product_id = obj['product_id']\n",
    "        title, price = (None, None)\n",
    "        try:\n",
    "            title, price = scrape_product_page(link)\n",
    "        except:\n",
    "            pass\n",
    "        if title != None and price != None:\n",
    "            print(link, title, price)\n",
    "        product_data = {\n",
    "            \"url\": link,\n",
    "            \"product_id\": product_id,\n",
    "            \"title\": title,\n",
    "            \"price\": price\n",
    "        }\n",
    "        data_extracted.append(product_data)\n",
    "        \n",
    "    return data_extracted"
   ]
  },
  {
   "cell_type": "code",
   "execution_count": 25,
   "id": "a7834227",
   "metadata": {},
   "outputs": [
    {
     "name": "stdout",
     "output_type": "stream",
     "text": [
      "https://www.amazon.com/PartySticks-Sticks-Party-Supplies-100pk/dp/B00N1QPNMA/ref=zg_bs_toys-and-games_8/130-8601364-7508027?pd_rd_i=B09Q7KP8GX&psc=1 PartySticks Glow Sticks Party Supplies 100pk - 8 Inch Glow in the Dark Light Up Sticks Party Favors, Glow Party Decorations, Neon Party Glow Necklaces and Glow Bracelets with Connectors $11.95$11.95\n",
      "https://www.amazon.com/Max-Liquidator-6-Pack-Water-Blaster/dp/B0796JVBJ8/ref=zg_bs_toys-and-games_15/130-8601364-7508027?pd_rd_i=B0796JVBJ8&psc=1 Max Liquidator 6-Pack Water Blaster Set $22.93$22.93\n",
      "https://www.amazon.com/Taco-Cat-Goat-Cheese-Pizza/dp/B077Z1R28P/ref=zg_bs_toys-and-games_21/130-8601364-7508027?pd_rd_i=B077Z1R28P&psc=1 Taco Cat Goat Cheese Pizza $9.84$9.84\n",
      "https://www.amazon.com/Crayola-Colored-Pencil-Supplies-Assorted/dp/B00006RVTS/ref=zg_bs_toys-and-games_17/130-8601364-7508027?pd_rd_i=B09MH514FH&psc=1 Crayola Colored Pencil Set, School Supplies, Assorted Colors, 36 Count, Long $5.97$5.97\n",
      "https://www.amazon.com/LeapFrog-Animals-Book-Frustration-Packaging/dp/B085KTB1WY/ref=zg_bs_toys-and-games_3/130-8601364-7508027?pd_rd_i=B0953YFR2M&psc=1 LeapFrog 100 Animals Book (Frustration Free Packaging), Pink $18.83$18.83\n",
      "https://www.amazon.com/Free-Swimming-Baby-Inflatable-Accessories/dp/B0721MB4L6/ref=zg_bs_toys-and-games_30/130-8601364-7508027?pd_rd_i=B08K3Q7MYF&psc=1 Free Swimming Baby Inflatable Baby Swim Float Children Waist Ring Inflatable Pool Floats Toys Swimming Pool Accessories for The Age of 3-72 Months(Blue, S) $19.70$19.70\n",
      "https://www.amazon.com/Colorful-Baby-Toys-brightly-together/dp/B00005C5H4/ref=zg_bs_toys-and-games_27/130-8601364-7508027?pd_rd_i=B07C4NGT17&psc=1 Colorful Baby Toys: 8 brightly colored cups stack together with Unique Holes in the Bottom for water play $4.99$4.99\n",
      "https://www.amazon.com/SwimWays-Recliner-Lounger-Hyper-Flate-Inflatable/dp/B08H8XFJDQ/ref=zg_bs_toys-and-games_10/130-8601364-7508027?pd_rd_i=B09ZYW2YHP&psc=1 SwimWays Inflatable Soft Mesh Twist and Fold Spring Stable Relaxing Recliner Pool and Lake Float Lounger with Cup Holder, Backrest, and Headrest, Aqua $31.99$31.99\n",
      "https://www.amazon.com/Crayola-Construction-Classic-Projects-Classrooms/dp/B003W0PBR2/ref=zg_bs_toys-and-games_20/130-8601364-7508027?pd_rd_i=B003W0PBR2&psc=1 Crayola Construction Paper 9\" x 12\" Pad, 8 Classic Colors (96 Sheets), Great For Classrooms & School Projects, Colors may vary $3.48$3.48\n",
      "https://www.amazon.com/LAYCOL-Swimming-Inflatable-Newest-Protection/dp/B083VRT815/ref=zg_bs_toys-and-games_11/130-8601364-7508027?pd_rd_i=B083VSRKRG&psc=1 LAYCOL Baby Swimming Float Inflatable Baby Pool Float Ring Newest with Sun Protection Canopy,add Tail no flip Over for Age of 3-36 Months $29.99$29.99\n",
      "https://www.amazon.com/Glow-Sticks-Bulk-Party-Supplies/dp/B07ZV31J31/ref=zg_bs_toys-and-games_5/130-8601364-7508027?pd_rd_i=B08B146216&psc=1 100 Glow Sticks Bulk Party Supplies - Glow in The Dark Fun Party Pack with 8\" Glowsticks and Connectors for Bracelets and Necklaces $12.99$12.99\n",
      "https://www.amazon.com/Family-Sturdy-Storage-Travel-Friendly-Exclusive/dp/B07P6MZPK3/ref=zg_bs_toys-and-games_24/130-8601364-7508027?pd_rd_i=B09PRL4CDJ&psc=1 UNO Family Card Game, with 112 Cards in a Sturdy Storage Tin, Travel-Friendly, Makes a Great Gift for 7 Year Olds and Up [Amazon Exclusive] $10.99$10.99\n",
      "https://www.amazon.com/Sassy-Stacks-Circles-Stacking-Learning/dp/B07NXDJ52C/ref=zg_bs_toys-and-games_19/130-8601364-7508027?pd_rd_i=B09STL9ZN7&psc=1 Sassy Stacks of Circles Stacking Ring STEM Learning Toy, Age 6+ Months, Multi, 9 Piece Set $8.99$8.99\n",
      "https://www.amazon.com/Intex-River-Lounge-Inflatable-Diameter/dp/B000PEOMC8/ref=zg_bs_toys-and-games_16/130-8601364-7508027?pd_rd_i=B09GQ8T6N4&psc=1 Intex River Run I Sport Lounge, Inflatable Water Float, 53\" Diameter $28.25$28.25\n",
      "https://www.amazon.com/Aqua-Monterey-Multi-Purpose-Inflatable-Portable/dp/B073WMYP6M/ref=zg_bs_toys-and-games_1/130-8601364-7508027?pd_rd_i=B09X2GCSDD&psc=1 Aqua Original 4-in-1 Monterey Hammock Pool Float & Water Hammock – Multi-Purpose, Inflatable Pool Floats for Adults – Patented Thick, Non-Stick PVC Material – Navy $12.99$12.99\n",
      "https://www.amazon.com/Bentgo-Kids-Prints-Camouflage-5-Compartment/dp/B07R2CNSTK/ref=zg_bs_toys-and-games_13/130-8601364-7508027?pd_rd_i=B07SZHBGZH&psc=1 Bentgo Kids Prints (Camouflage) - Leak-Proof, 5-Compartment Bento-Style Kids Lunch Box – Ideal Portion Sizes for Ages 3 to 7 – BPA-Free and Food-Safe Materials $29.98$29.98\n",
      "https://www.amazon.com/Blinger-Ultimate-Collection-Comes-Styling/dp/B07ZKTBGR2/ref=zg_bs_toys-and-games_9/130-8601364-7508027?pd_rd_i=B07ZKTBGR2&psc=1 Blinger Ultimate Set, Glam Collection, Comes with Glam Styling Tool & 225 Gems - Load, Click, Bling! Hair, Fashion, Anything! (Amazon Exclusive), $25.26$25.26\n",
      "https://www.amazon.com/Barbie-Chelsea-Birthday-Playset-Accessories/dp/B08HFT1PX7/ref=zg_bs_toys-and-games_12/130-8601364-7508027?pd_rd_i=B08HFT1PX7&psc=1 Barbie and Chelsea The Lost Birthday Playset with Barbie & Chelsea Dolls, 3 Pets & Accessories, Gift for 3 to 7 Year Olds $8.44$8.44\n",
      "https://www.amazon.com/Colorful-Writing-Learning-Educational-Drawing/dp/B08Z3TGRKZ/ref=zg_bs_toys-and-games_29/130-8601364-7508027?pd_rd_i=B09SV6XP5K&psc=1 ORSEN Colorful 8.5 inch LCD Writing Tablet, Learning Educational Toys for 3 4 5 6 7 Year Old Girls Boys, Doodle Board Drawing Pad $13.98$13.98\n",
      "https://www.amazon.com/SplashEZ-Splash-Sprinkler-Toddler-Learning/dp/B0836WRWFY/ref=zg_bs_toys-and-games_28/130-8601364-7508027?pd_rd_i=B084ZNK9NV&psc=1 SplashEZ 3-in-1 Splash Pad, Sprinkler for Kids and Wading Pool for Learning – Children’s Sprinkler Pool, 60’’ Inflatable Water Summer Toys – “Around The World” Outdoor Play Mat for Babies & Toddlers $26.96$26.96\n",
      "https://www.amazon.com/Bunch-Balloons-Zuru-Self-Sealing-Water/dp/B07FL35M4Z/ref=zg_bs_toys-and-games_2/130-8601364-7508027?pd_rd_i=B09T9P47P9&psc=1 Bunch O Balloons Zuru 420 Self-Sealing Water Balloons - New Vibrant Colors (420) $35.99$35.99\n",
      "https://www.amazon.com/Swimming-Inflatable-Multi-Purpose-Floating-Floaties/dp/B09TSM647Q/ref=zg_bs_toys-and-games_22/130-8601364-7508027?pd_rd_i=B08V4ZR9N7&psc=1 2-Pack Swimming Pool Floats, Inflatable Water Hammock Adults Size, Multi-Purpose Floating Rafts ( Saddle, Lounge Chair, Floaties Hammock, Drifter) $18.99$18.99\n",
      "https://www.amazon.com/Play-Doh-Modeling-Compound-Non-Toxic-Exclusive/dp/B00JM5GW10/ref=zg_bs_toys-and-games_14/130-8601364-7508027?pd_rd_i=B00JM5GW10&psc=1 Play-Doh Modeling Compound 10-Pack Case of Colors, Non-Toxic, Assorted, 2 oz. Cans, Ages 2 and up, Multicolor (Amazon Exclusive) $7.99$7.99\n",
      "https://www.amazon.com/Beach-Toys-Blue-Ultimate-Skip/dp/B08TPHYWHK/ref=zg_bs_toys-and-games_7/130-8601364-7508027?pd_rd_i=B09FB1JZ2G&psc=1 The Ultimate Skip Ball – Water Bouncing Ball (2 Pack) Create Lasting Memories with Your Friends & Family at The Beach, Lake or Pool - Great for All Ages $15.99$15.99\n"
     ]
    }
   ],
   "source": [
    "extracted_data = perform_scrape(cleaned_items=cleaned_links)"
   ]
  },
  {
   "cell_type": "code",
   "execution_count": 26,
   "id": "c1c85bb6",
   "metadata": {},
   "outputs": [
    {
     "name": "stdout",
     "output_type": "stream",
     "text": [
      "[{'url': 'https://www.amazon.com/PartySticks-Sticks-Party-Supplies-100pk/dp/B00N1QPNMA/ref=zg_bs_toys-and-games_8/130-8601364-7508027?pd_rd_i=B09Q7KP8GX&psc=1', 'product_id': 'B00N1QPNMA', 'title': 'PartySticks Glow Sticks Party Supplies 100pk - 8 Inch Glow in the Dark Light Up Sticks Party Favors, Glow Party Decorations, Neon Party Glow Necklaces and Glow Bracelets with Connectors', 'price': '$11.95$11.95'}, {'url': 'https://www.amazon.com/Max-Liquidator-6-Pack-Water-Blaster/dp/B0796JVBJ8/ref=zg_bs_toys-and-games_15/130-8601364-7508027?pd_rd_i=B0796JVBJ8&psc=1', 'product_id': 'B0796JVBJ8', 'title': 'Max Liquidator 6-Pack Water Blaster Set', 'price': '$22.93$22.93'}, {'url': 'https://www.amazon.com/Taco-Cat-Goat-Cheese-Pizza/dp/B077Z1R28P/ref=zg_bs_toys-and-games_21/130-8601364-7508027?pd_rd_i=B077Z1R28P&psc=1', 'product_id': 'B077Z1R28P', 'title': 'Taco Cat Goat Cheese Pizza', 'price': '$9.84$9.84'}, {'url': 'https://www.amazon.com/Crayola-Colored-Pencil-Supplies-Assorted/dp/B00006RVTS/ref=zg_bs_toys-and-games_17/130-8601364-7508027?pd_rd_i=B09MH514FH&psc=1', 'product_id': 'B00006RVTS', 'title': 'Crayola Colored Pencil Set, School Supplies, Assorted Colors, 36 Count, Long', 'price': '$5.97$5.97'}, {'url': 'https://www.amazon.com/LeapFrog-Animals-Book-Frustration-Packaging/dp/B085KTB1WY/ref=zg_bs_toys-and-games_3/130-8601364-7508027?pd_rd_i=B0953YFR2M&psc=1', 'product_id': 'B085KTB1WY', 'title': 'LeapFrog 100 Animals Book (Frustration Free Packaging), Pink', 'price': '$18.83$18.83'}, {'url': 'https://www.amazon.com/Free-Swimming-Baby-Inflatable-Accessories/dp/B0721MB4L6/ref=zg_bs_toys-and-games_30/130-8601364-7508027?pd_rd_i=B08K3Q7MYF&psc=1', 'product_id': 'B0721MB4L6', 'title': 'Free Swimming Baby Inflatable Baby Swim Float Children Waist Ring Inflatable Pool Floats Toys Swimming Pool Accessories for The Age of 3-72 Months(Blue, S)', 'price': '$19.70$19.70'}, {'url': 'https://www.amazon.com/Colorful-Baby-Toys-brightly-together/dp/B00005C5H4/ref=zg_bs_toys-and-games_27/130-8601364-7508027?pd_rd_i=B07C4NGT17&psc=1', 'product_id': 'B00005C5H4', 'title': 'Colorful Baby Toys: 8 brightly colored cups stack together with Unique Holes in the Bottom for water play', 'price': '$4.99$4.99'}, {'url': 'https://www.amazon.com/Basic-Fun-2020-Care-Bears/dp/B084JCXB87/ref=zg_bs_toys-and-games_6/130-8601364-7508027?pd_rd_i=B08R1X5T33&psc=1', 'product_id': 'B084JCXB87', 'title': None, 'price': None}, {'url': 'https://www.amazon.com/SwimWays-Recliner-Lounger-Hyper-Flate-Inflatable/dp/B08H8XFJDQ/ref=zg_bs_toys-and-games_10/130-8601364-7508027?pd_rd_i=B09ZYW2YHP&psc=1', 'product_id': 'B08H8XFJDQ', 'title': 'SwimWays Inflatable Soft Mesh Twist and Fold Spring Stable Relaxing Recliner Pool and Lake Float Lounger with Cup Holder, Backrest, and Headrest, Aqua', 'price': '$31.99$31.99'}, {'url': 'https://www.amazon.com/Crayola-Construction-Classic-Projects-Classrooms/dp/B003W0PBR2/ref=zg_bs_toys-and-games_20/130-8601364-7508027?pd_rd_i=B003W0PBR2&psc=1', 'product_id': 'B003W0PBR2', 'title': 'Crayola Construction Paper 9\" x 12\" Pad, 8 Classic Colors (96 Sheets), Great For Classrooms & School Projects, Colors may vary', 'price': '$3.48$3.48'}, {'url': 'https://www.amazon.com/LAYCOL-Swimming-Inflatable-Newest-Protection/dp/B083VRT815/ref=zg_bs_toys-and-games_11/130-8601364-7508027?pd_rd_i=B083VSRKRG&psc=1', 'product_id': 'B083VRT815', 'title': 'LAYCOL Baby Swimming Float Inflatable Baby Pool Float Ring Newest with Sun Protection Canopy,add Tail no flip Over for Age of 3-36 Months', 'price': '$29.99$29.99'}, {'url': 'https://www.amazon.com/Glow-Sticks-Bulk-Party-Supplies/dp/B07ZV31J31/ref=zg_bs_toys-and-games_5/130-8601364-7508027?pd_rd_i=B08B146216&psc=1', 'product_id': 'B07ZV31J31', 'title': '100 Glow Sticks Bulk Party Supplies - Glow in The Dark Fun Party Pack with 8\" Glowsticks and Connectors for Bracelets and Necklaces', 'price': '$12.99$12.99'}, {'url': 'https://www.amazon.com/Family-Sturdy-Storage-Travel-Friendly-Exclusive/dp/B07P6MZPK3/ref=zg_bs_toys-and-games_24/130-8601364-7508027?pd_rd_i=B09PRL4CDJ&psc=1', 'product_id': 'B07P6MZPK3', 'title': 'UNO Family Card Game, with 112 Cards in a Sturdy Storage Tin, Travel-Friendly, Makes a Great Gift for 7 Year Olds and Up [Amazon Exclusive]', 'price': '$10.99$10.99'}, {'url': 'https://www.amazon.com/Elmers-Liquid-School-Glue-Washable/dp/B072J37ZZD/ref=zg_bs_toys-and-games_25/130-8601364-7508027?pd_rd_i=B09YMS5KV8&psc=1', 'product_id': 'B072J37ZZD', 'title': None, 'price': None}, {'url': 'https://www.amazon.com/Sassy-Stacks-Circles-Stacking-Learning/dp/B07NXDJ52C/ref=zg_bs_toys-and-games_19/130-8601364-7508027?pd_rd_i=B09STL9ZN7&psc=1', 'product_id': 'B07NXDJ52C', 'title': 'Sassy Stacks of Circles Stacking Ring STEM Learning Toy, Age 6+ Months, Multi, 9 Piece Set', 'price': '$8.99$8.99'}, {'url': 'https://www.amazon.com/Intex-River-Lounge-Inflatable-Diameter/dp/B000PEOMC8/ref=zg_bs_toys-and-games_16/130-8601364-7508027?pd_rd_i=B09GQ8T6N4&psc=1', 'product_id': 'B000PEOMC8', 'title': 'Intex River Run I Sport Lounge, Inflatable Water Float, 53\" Diameter', 'price': '$28.25$28.25'}, {'url': 'https://www.amazon.com/Aqua-Monterey-Multi-Purpose-Inflatable-Portable/dp/B073WMYP6M/ref=zg_bs_toys-and-games_1/130-8601364-7508027?pd_rd_i=B09X2GCSDD&psc=1', 'product_id': 'B073WMYP6M', 'title': 'Aqua Original 4-in-1 Monterey Hammock Pool Float & Water Hammock – Multi-Purpose, Inflatable Pool Floats for Adults – Patented Thick, Non-Stick PVC Material – Navy', 'price': '$12.99$12.99'}, {'url': 'https://www.amazon.com/Bentgo-Kids-Prints-Camouflage-5-Compartment/dp/B07R2CNSTK/ref=zg_bs_toys-and-games_13/130-8601364-7508027?pd_rd_i=B07SZHBGZH&psc=1', 'product_id': 'B07R2CNSTK', 'title': 'Bentgo Kids Prints (Camouflage) - Leak-Proof, 5-Compartment Bento-Style Kids Lunch Box – Ideal Portion Sizes for Ages 3 to 7 – BPA-Free and Food-Safe Materials', 'price': '$29.98$29.98'}, {'url': 'https://www.amazon.com/Blinger-Ultimate-Collection-Comes-Styling/dp/B07ZKTBGR2/ref=zg_bs_toys-and-games_9/130-8601364-7508027?pd_rd_i=B07ZKTBGR2&psc=1', 'product_id': 'B07ZKTBGR2', 'title': 'Blinger Ultimate Set, Glam Collection, Comes with Glam Styling Tool & 225 Gems - Load, Click, Bling! Hair, Fashion, Anything! (Amazon Exclusive),', 'price': '$25.26$25.26'}, {'url': 'https://www.amazon.com/Barbie-Chelsea-Birthday-Playset-Accessories/dp/B08HFT1PX7/ref=zg_bs_toys-and-games_12/130-8601364-7508027?pd_rd_i=B08HFT1PX7&psc=1', 'product_id': 'B08HFT1PX7', 'title': 'Barbie and Chelsea The Lost Birthday Playset with Barbie & Chelsea Dolls, 3 Pets & Accessories, Gift for 3 to 7 Year Olds', 'price': '$8.44$8.44'}, {'url': 'https://www.amazon.com/Colorful-Writing-Learning-Educational-Drawing/dp/B08Z3TGRKZ/ref=zg_bs_toys-and-games_29/130-8601364-7508027?pd_rd_i=B09SV6XP5K&psc=1', 'product_id': 'B08Z3TGRKZ', 'title': 'ORSEN Colorful 8.5 inch LCD Writing Tablet, Learning Educational Toys for 3 4 5 6 7 Year Old Girls Boys, Doodle Board Drawing Pad', 'price': '$13.98$13.98'}, {'url': 'https://www.amazon.com/SHASHIBO-Shifting-Geometric-Magnetic-Transforming/dp/B07W7FLKRW/ref=zg_bs_toys-and-games_23/130-8601364-7508027?pd_rd_i=B09NTXBJDM&psc=1', 'product_id': 'B07W7FLKRW', 'title': None, 'price': None}, {'url': 'https://www.amazon.com/SplashEZ-Splash-Sprinkler-Toddler-Learning/dp/B0836WRWFY/ref=zg_bs_toys-and-games_28/130-8601364-7508027?pd_rd_i=B084ZNK9NV&psc=1', 'product_id': 'B0836WRWFY', 'title': 'SplashEZ 3-in-1 Splash Pad, Sprinkler for Kids and Wading Pool for Learning – Children’s Sprinkler Pool, 60’’ Inflatable Water Summer Toys – “Around The World” Outdoor Play Mat for Babies & Toddlers', 'price': '$26.96$26.96'}, {'url': 'https://www.amazon.com/Bunch-Balloons-Zuru-Self-Sealing-Water/dp/B07FL35M4Z/ref=zg_bs_toys-and-games_2/130-8601364-7508027?pd_rd_i=B09T9P47P9&psc=1', 'product_id': 'B07FL35M4Z', 'title': 'Bunch O Balloons Zuru 420 Self-Sealing Water Balloons - New Vibrant Colors (420)', 'price': '$35.99$35.99'}, {'url': 'https://www.amazon.com/Balloons-Filling-Backyard-Swimming-CG76119P/dp/B09VCM5MYK/ref=zg_bs_toys-and-games_18/130-8601364-7508027?pd_rd_i=B0B3S4C565&psc=1', 'product_id': 'B09VCM5MYK', 'title': None, 'price': None}, {'url': 'https://www.amazon.com/Swimming-Inflatable-Multi-Purpose-Floating-Floaties/dp/B09TSM647Q/ref=zg_bs_toys-and-games_22/130-8601364-7508027?pd_rd_i=B08V4ZR9N7&psc=1', 'product_id': 'B09TSM647Q', 'title': '2-Pack Swimming Pool Floats, Inflatable Water Hammock Adults Size, Multi-Purpose Floating Rafts ( Saddle, Lounge Chair, Floaties Hammock, Drifter)', 'price': '$18.99$18.99'}, {'url': 'https://www.amazon.com/Bunchs-Balloons-Rapid-Filling-SelfSealing-00627_2A/dp/B0B57CMVFY/ref=zg_bs_toys-and-games_4/130-8601364-7508027?pd_rd_i=B09V29B8J1&psc=1', 'product_id': 'B0B57CMVFY', 'title': None, 'price': None}, {'url': 'https://www.amazon.com/Play-Doh-Modeling-Compound-Non-Toxic-Exclusive/dp/B00JM5GW10/ref=zg_bs_toys-and-games_14/130-8601364-7508027?pd_rd_i=B00JM5GW10&psc=1', 'product_id': 'B00JM5GW10', 'title': 'Play-Doh Modeling Compound 10-Pack Case of Colors, Non-Toxic, Assorted, 2 oz. Cans, Ages 2 and up, Multicolor (Amazon Exclusive)', 'price': '$7.99$7.99'}, {'url': 'https://www.amazon.com/Beach-Toys-Blue-Ultimate-Skip/dp/B08TPHYWHK/ref=zg_bs_toys-and-games_7/130-8601364-7508027?pd_rd_i=B09FB1JZ2G&psc=1', 'product_id': 'B08TPHYWHK', 'title': 'The Ultimate Skip Ball – Water Bouncing Ball (2 Pack) Create Lasting Memories with Your Friends & Family at The Beach, Lake or Pool - Great for All Ages', 'price': '$15.99$15.99'}]\n"
     ]
    }
   ],
   "source": [
    "print(extracted_data)"
   ]
  }
 ],
 "metadata": {
  "kernelspec": {
   "display_name": "Python 3 (ipykernel)",
   "language": "python",
   "name": "python3"
  },
  "language_info": {
   "codemirror_mode": {
    "name": "ipython",
    "version": 3
   },
   "file_extension": ".py",
   "mimetype": "text/x-python",
   "name": "python",
   "nbconvert_exporter": "python",
   "pygments_lexer": "ipython3",
   "version": "3.9.10"
  }
 },
 "nbformat": 4,
 "nbformat_minor": 5
}
